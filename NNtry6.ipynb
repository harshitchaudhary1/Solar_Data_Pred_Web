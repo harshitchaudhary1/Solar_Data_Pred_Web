{
  "nbformat": 4,
  "nbformat_minor": 0,
  "metadata": {
    "colab": {
      "provenance": [],
      "collapsed_sections": []
    },
    "kernelspec": {
      "name": "python3",
      "display_name": "Python 3"
    },
    "language_info": {
      "name": "python"
    }
  },
  "cells": [
    {
      "cell_type": "code",
      "execution_count": null,
      "metadata": {
        "id": "bsyf9Vi8_AOk"
      },
      "outputs": [],
      "source": [
        "import numpy as np\n",
        "import pandas as pd\n",
        "import matplotlib.pyplot as plt\n",
        "import seaborn as sns"
      ]
    },
    {
      "cell_type": "code",
      "source": [
        "data = pd.read_csv(\"solar_data_copy_10%.csv\")\n",
        "data.head(5)"
      ],
      "metadata": {
        "colab": {
          "base_uri": "https://localhost:8080/",
          "height": 206
        },
        "id": "D9zjion7_tiS",
        "outputId": "51855717-e588-419d-cfa9-e03c0a44713b"
      },
      "execution_count": null,
      "outputs": [
        {
          "output_type": "execute_result",
          "data": {
            "text/plain": [
              "          Timestamp   Air_Temp  Relative_Humidity        RTD  Solar_Radiation  \\\n",
              "0  27-04-2022 15:32  43.349172          12.790256  93.810658        707.53384   \n",
              "1  27-04-2022 15:34  43.433980          11.468986  93.926163        710.46328   \n",
              "2  27-04-2022 15:36  43.286580          11.047298  93.409872        695.51016   \n",
              "3  27-04-2022 15:38  43.523020          12.058292  96.768182        696.24472   \n",
              "4  27-04-2022 15:40  43.728656          10.722330  96.870179        674.05752   \n",
              "\n",
              "   Array_Voltage  Array_Current  Power_Generated  \n",
              "0      80.178232       5.364869        430.14572  \n",
              "1      80.266728       5.366041        430.71452  \n",
              "2      80.187416       5.365501        430.24568  \n",
              "3      80.727760       5.364512        433.06504  \n",
              "4      80.500312       5.365144        431.89576  "
            ],
            "text/html": [
              "\n",
              "  <div id=\"df-32f57cbd-c95c-4846-b7b7-6209c6f221d6\">\n",
              "    <div class=\"colab-df-container\">\n",
              "      <div>\n",
              "<style scoped>\n",
              "    .dataframe tbody tr th:only-of-type {\n",
              "        vertical-align: middle;\n",
              "    }\n",
              "\n",
              "    .dataframe tbody tr th {\n",
              "        vertical-align: top;\n",
              "    }\n",
              "\n",
              "    .dataframe thead th {\n",
              "        text-align: right;\n",
              "    }\n",
              "</style>\n",
              "<table border=\"1\" class=\"dataframe\">\n",
              "  <thead>\n",
              "    <tr style=\"text-align: right;\">\n",
              "      <th></th>\n",
              "      <th>Timestamp</th>\n",
              "      <th>Air_Temp</th>\n",
              "      <th>Relative_Humidity</th>\n",
              "      <th>RTD</th>\n",
              "      <th>Solar_Radiation</th>\n",
              "      <th>Array_Voltage</th>\n",
              "      <th>Array_Current</th>\n",
              "      <th>Power_Generated</th>\n",
              "    </tr>\n",
              "  </thead>\n",
              "  <tbody>\n",
              "    <tr>\n",
              "      <th>0</th>\n",
              "      <td>27-04-2022 15:32</td>\n",
              "      <td>43.349172</td>\n",
              "      <td>12.790256</td>\n",
              "      <td>93.810658</td>\n",
              "      <td>707.53384</td>\n",
              "      <td>80.178232</td>\n",
              "      <td>5.364869</td>\n",
              "      <td>430.14572</td>\n",
              "    </tr>\n",
              "    <tr>\n",
              "      <th>1</th>\n",
              "      <td>27-04-2022 15:34</td>\n",
              "      <td>43.433980</td>\n",
              "      <td>11.468986</td>\n",
              "      <td>93.926163</td>\n",
              "      <td>710.46328</td>\n",
              "      <td>80.266728</td>\n",
              "      <td>5.366041</td>\n",
              "      <td>430.71452</td>\n",
              "    </tr>\n",
              "    <tr>\n",
              "      <th>2</th>\n",
              "      <td>27-04-2022 15:36</td>\n",
              "      <td>43.286580</td>\n",
              "      <td>11.047298</td>\n",
              "      <td>93.409872</td>\n",
              "      <td>695.51016</td>\n",
              "      <td>80.187416</td>\n",
              "      <td>5.365501</td>\n",
              "      <td>430.24568</td>\n",
              "    </tr>\n",
              "    <tr>\n",
              "      <th>3</th>\n",
              "      <td>27-04-2022 15:38</td>\n",
              "      <td>43.523020</td>\n",
              "      <td>12.058292</td>\n",
              "      <td>96.768182</td>\n",
              "      <td>696.24472</td>\n",
              "      <td>80.727760</td>\n",
              "      <td>5.364512</td>\n",
              "      <td>433.06504</td>\n",
              "    </tr>\n",
              "    <tr>\n",
              "      <th>4</th>\n",
              "      <td>27-04-2022 15:40</td>\n",
              "      <td>43.728656</td>\n",
              "      <td>10.722330</td>\n",
              "      <td>96.870179</td>\n",
              "      <td>674.05752</td>\n",
              "      <td>80.500312</td>\n",
              "      <td>5.365144</td>\n",
              "      <td>431.89576</td>\n",
              "    </tr>\n",
              "  </tbody>\n",
              "</table>\n",
              "</div>\n",
              "      <button class=\"colab-df-convert\" onclick=\"convertToInteractive('df-32f57cbd-c95c-4846-b7b7-6209c6f221d6')\"\n",
              "              title=\"Convert this dataframe to an interactive table.\"\n",
              "              style=\"display:none;\">\n",
              "        \n",
              "  <svg xmlns=\"http://www.w3.org/2000/svg\" height=\"24px\"viewBox=\"0 0 24 24\"\n",
              "       width=\"24px\">\n",
              "    <path d=\"M0 0h24v24H0V0z\" fill=\"none\"/>\n",
              "    <path d=\"M18.56 5.44l.94 2.06.94-2.06 2.06-.94-2.06-.94-.94-2.06-.94 2.06-2.06.94zm-11 1L8.5 8.5l.94-2.06 2.06-.94-2.06-.94L8.5 2.5l-.94 2.06-2.06.94zm10 10l.94 2.06.94-2.06 2.06-.94-2.06-.94-.94-2.06-.94 2.06-2.06.94z\"/><path d=\"M17.41 7.96l-1.37-1.37c-.4-.4-.92-.59-1.43-.59-.52 0-1.04.2-1.43.59L10.3 9.45l-7.72 7.72c-.78.78-.78 2.05 0 2.83L4 21.41c.39.39.9.59 1.41.59.51 0 1.02-.2 1.41-.59l7.78-7.78 2.81-2.81c.8-.78.8-2.07 0-2.86zM5.41 20L4 18.59l7.72-7.72 1.47 1.35L5.41 20z\"/>\n",
              "  </svg>\n",
              "      </button>\n",
              "      \n",
              "  <style>\n",
              "    .colab-df-container {\n",
              "      display:flex;\n",
              "      flex-wrap:wrap;\n",
              "      gap: 12px;\n",
              "    }\n",
              "\n",
              "    .colab-df-convert {\n",
              "      background-color: #E8F0FE;\n",
              "      border: none;\n",
              "      border-radius: 50%;\n",
              "      cursor: pointer;\n",
              "      display: none;\n",
              "      fill: #1967D2;\n",
              "      height: 32px;\n",
              "      padding: 0 0 0 0;\n",
              "      width: 32px;\n",
              "    }\n",
              "\n",
              "    .colab-df-convert:hover {\n",
              "      background-color: #E2EBFA;\n",
              "      box-shadow: 0px 1px 2px rgba(60, 64, 67, 0.3), 0px 1px 3px 1px rgba(60, 64, 67, 0.15);\n",
              "      fill: #174EA6;\n",
              "    }\n",
              "\n",
              "    [theme=dark] .colab-df-convert {\n",
              "      background-color: #3B4455;\n",
              "      fill: #D2E3FC;\n",
              "    }\n",
              "\n",
              "    [theme=dark] .colab-df-convert:hover {\n",
              "      background-color: #434B5C;\n",
              "      box-shadow: 0px 1px 3px 1px rgba(0, 0, 0, 0.15);\n",
              "      filter: drop-shadow(0px 1px 2px rgba(0, 0, 0, 0.3));\n",
              "      fill: #FFFFFF;\n",
              "    }\n",
              "  </style>\n",
              "\n",
              "      <script>\n",
              "        const buttonEl =\n",
              "          document.querySelector('#df-32f57cbd-c95c-4846-b7b7-6209c6f221d6 button.colab-df-convert');\n",
              "        buttonEl.style.display =\n",
              "          google.colab.kernel.accessAllowed ? 'block' : 'none';\n",
              "\n",
              "        async function convertToInteractive(key) {\n",
              "          const element = document.querySelector('#df-32f57cbd-c95c-4846-b7b7-6209c6f221d6');\n",
              "          const dataTable =\n",
              "            await google.colab.kernel.invokeFunction('convertToInteractive',\n",
              "                                                     [key], {});\n",
              "          if (!dataTable) return;\n",
              "\n",
              "          const docLinkHtml = 'Like what you see? Visit the ' +\n",
              "            '<a target=\"_blank\" href=https://colab.research.google.com/notebooks/data_table.ipynb>data table notebook</a>'\n",
              "            + ' to learn more about interactive tables.';\n",
              "          element.innerHTML = '';\n",
              "          dataTable['output_type'] = 'display_data';\n",
              "          await google.colab.output.renderOutput(dataTable, element);\n",
              "          const docLink = document.createElement('div');\n",
              "          docLink.innerHTML = docLinkHtml;\n",
              "          element.appendChild(docLink);\n",
              "        }\n",
              "      </script>\n",
              "    </div>\n",
              "  </div>\n",
              "  "
            ]
          },
          "metadata": {},
          "execution_count": 2
        }
      ]
    },
    {
      "cell_type": "code",
      "source": [
        "waste_1 = data.pop('Timestamp')"
      ],
      "metadata": {
        "id": "VQI6Rj8f_ztO"
      },
      "execution_count": null,
      "outputs": []
    },
    {
      "cell_type": "code",
      "source": [
        "data.info()"
      ],
      "metadata": {
        "colab": {
          "base_uri": "https://localhost:8080/"
        },
        "id": "0_Fcqa1j_6MA",
        "outputId": "a4ffd327-c14a-4a55-ff72-ed3ced6cb513"
      },
      "execution_count": null,
      "outputs": [
        {
          "output_type": "stream",
          "name": "stdout",
          "text": [
            "<class 'pandas.core.frame.DataFrame'>\n",
            "RangeIndex: 1009 entries, 0 to 1008\n",
            "Data columns (total 7 columns):\n",
            " #   Column             Non-Null Count  Dtype  \n",
            "---  ------             --------------  -----  \n",
            " 0   Air_Temp           1009 non-null   float64\n",
            " 1   Relative_Humidity  1009 non-null   float64\n",
            " 2   RTD                1009 non-null   float64\n",
            " 3   Solar_Radiation    1009 non-null   float64\n",
            " 4   Array_Voltage      1009 non-null   float64\n",
            " 5   Array_Current      1009 non-null   float64\n",
            " 6   Power_Generated    1009 non-null   float64\n",
            "dtypes: float64(7)\n",
            "memory usage: 55.3 KB\n"
          ]
        }
      ]
    },
    {
      "cell_type": "code",
      "source": [
        "min_d = data['Power_Generated'].min()\n",
        "max_d=data['Power_Generated'].max()"
      ],
      "metadata": {
        "id": "m7J8kClD7UhB"
      },
      "execution_count": null,
      "outputs": []
    },
    {
      "cell_type": "code",
      "source": [
        "data[\"Power_Generated\"].describe()"
      ],
      "metadata": {
        "colab": {
          "base_uri": "https://localhost:8080/"
        },
        "id": "-r73bDgGCxoU",
        "outputId": "3ca34891-6c9f-4cb7-9a5b-bb71a9525133"
      },
      "execution_count": null,
      "outputs": [
        {
          "output_type": "execute_result",
          "data": {
            "text/plain": [
              "count    1009.000000\n",
              "mean      183.151609\n",
              "std       166.299019\n",
              "min         8.485232\n",
              "25%        14.354230\n",
              "50%       276.001580\n",
              "75%       341.081680\n",
              "max       438.556840\n",
              "Name: Power_Generated, dtype: float64"
            ]
          },
          "metadata": {},
          "execution_count": 6
        }
      ]
    },
    {
      "cell_type": "code",
      "source": [
        "sns.scatterplot(x=\"Solar_Radiation\", y=\"Relative_Humidity\",\n",
        "                hue=\"Power_Generated\",\n",
        "                sizes=(3, 15), linewidth=0,\n",
        "                data=data)"
      ],
      "metadata": {
        "colab": {
          "base_uri": "https://localhost:8080/",
          "height": 297
        },
        "id": "TxjZHMHNACnn",
        "outputId": "9dd13f6a-2834-4d25-d783-9521f68c7f9f"
      },
      "execution_count": null,
      "outputs": [
        {
          "output_type": "execute_result",
          "data": {
            "text/plain": [
              "<matplotlib.axes._subplots.AxesSubplot at 0x7f62e0b1ed50>"
            ]
          },
          "metadata": {},
          "execution_count": 7
        },
        {
          "output_type": "display_data",
          "data": {
            "text/plain": [
              "<Figure size 432x288 with 1 Axes>"
            ],
            "image/png": "[encoded data removed]"
          },
          "metadata": {
            "needs_background": "light"
          }
        }
      ]
    },
    {
      "cell_type": "code",
      "source": [
        "sns.jointplot(x='Power_Generated',y='Relative_Humidity',data = data, kind = 'kde' ,color = 'brown')"
      ],
      "metadata": {
        "colab": {
          "base_uri": "https://localhost:8080/",
          "height": 458
        },
        "id": "jnL1lKFHAsku",
        "outputId": "e98ba21a-d606-47b1-c9a9-9fdd405055f4"
      },
      "execution_count": null,
      "outputs": [
        {
          "output_type": "execute_result",
          "data": {
            "text/plain": [
              "<seaborn.axisgrid.JointGrid at 0x7f62e09b2790>"
            ]
          },
          "metadata": {},
          "execution_count": 8
        },
        {
          "output_type": "display_data",
          "data": {
            "text/plain": [
              "<Figure size 432x432 with 3 Axes>"
            ],
            "image/png": "[encoded data removed]"
          },
          "metadata": {
            "needs_background": "light"
          }
        }
      ]
    },
    {
      "cell_type": "code",
      "source": [
        "sns.jointplot(x='Solar_Radiation',y='Relative_Humidity',data = data, kind = 'kde' ,color = 'green')"
      ],
      "metadata": {
        "colab": {
          "base_uri": "https://localhost:8080/",
          "height": 458
        },
        "id": "6yYFjSdbB1gc",
        "outputId": "780634fe-565f-47a8-fbce-e4c5bb4f5b18"
      },
      "execution_count": null,
      "outputs": [
        {
          "output_type": "execute_result",
          "data": {
            "text/plain": [
              "<seaborn.axisgrid.JointGrid at 0x7f62e0aac650>"
            ]
          },
          "metadata": {},
          "execution_count": 9
        },
        {
          "output_type": "display_data",
          "data": {
            "text/plain": [
              "<Figure size 432x432 with 3 Axes>"
            ],
            "image/png": "[encoded data removed]"
          },
          "metadata": {
            "needs_background": "light"
          }
        }
      ]
    },
    {
      "cell_type": "code",
      "source": [
        "data.info()"
      ],
      "metadata": {
        "colab": {
          "base_uri": "https://localhost:8080/"
        },
        "id": "QoOx8grQHR8r",
        "outputId": "d27787c4-2b73-4c9c-e24d-c0a045e94715"
      },
      "execution_count": null,
      "outputs": [
        {
          "output_type": "stream",
          "name": "stdout",
          "text": [
            "<class 'pandas.core.frame.DataFrame'>\n",
            "RangeIndex: 1009 entries, 0 to 1008\n",
            "Data columns (total 7 columns):\n",
            " #   Column             Non-Null Count  Dtype  \n",
            "---  ------             --------------  -----  \n",
            " 0   Air_Temp           1009 non-null   float64\n",
            " 1   Relative_Humidity  1009 non-null   float64\n",
            " 2   RTD                1009 non-null   float64\n",
            " 3   Solar_Radiation    1009 non-null   float64\n",
            " 4   Array_Voltage      1009 non-null   float64\n",
            " 5   Array_Current      1009 non-null   float64\n",
            " 6   Power_Generated    1009 non-null   float64\n",
            "dtypes: float64(7)\n",
            "memory usage: 55.3 KB\n"
          ]
        }
      ]
    },
    {
      "cell_type": "code",
      "source": [
        "from sklearn.preprocessing import MinMaxScaler\n",
        "scaler = MinMaxScaler()\n",
        "names = [\"Air_Temp\",\"Relative_Humidity\",\"Solar_Radiation\",\"RTD\",\"Array_Voltage\",\"Array_Current\",\"Power_Generated\"]\n",
        "data[names] = scaler.fit_transform(data[names])"
      ],
      "metadata": {
        "id": "ncK4NA7rF7pL"
      },
      "execution_count": null,
      "outputs": []
    },
    {
      "cell_type": "code",
      "source": [
        "data.head(10)"
      ],
      "metadata": {
        "colab": {
          "base_uri": "https://localhost:8080/",
          "height": 363
        },
        "id": "1ftNIq5FHhcK",
        "outputId": "cb1da597-5758-4c3a-877a-08bc281ceb18"
      },
      "execution_count": null,
      "outputs": [
        {
          "output_type": "execute_result",
          "data": {
            "text/plain": [
              "   Air_Temp  Relative_Humidity       RTD  Solar_Radiation  Array_Voltage  \\\n",
              "0  0.832721           0.052450  0.799167         0.624959       0.980042   \n",
              "1  0.834979           0.020098  0.800428         0.627547       0.981145   \n",
              "2  0.831054           0.009773  0.794791         0.614339       0.980157   \n",
              "3  0.837350           0.034527  0.831457         0.614987       0.986894   \n",
              "4  0.842825           0.001816  0.832571         0.595390       0.984058   \n",
              "5  0.841679           0.027132  0.833148         0.590691       0.982769   \n",
              "6  0.836313           0.005162  0.831340         0.581154       0.985388   \n",
              "7  0.852264           0.026458  0.886563         0.583096       1.000000   \n",
              "8  0.850035           0.027018  0.880728         0.573551       0.997385   \n",
              "9  0.845681           0.027189  0.875779         0.564169       0.996492   \n",
              "\n",
              "   Array_Current  Power_Generated  \n",
              "0       0.242983         0.980443  \n",
              "1       0.263961         0.981765  \n",
              "2       0.254296         0.980675  \n",
              "3       0.236593         0.987230  \n",
              "4       0.247906         0.984512  \n",
              "5       0.223706         0.982969  \n",
              "6       0.204375         0.985387  \n",
              "7       0.204375         1.000000  \n",
              "8       0.202728         0.997368  \n",
              "9       0.196284         0.996406  "
            ],
            "text/html": [
              "\n",
              "  <div id=\"df-bc180733-a6c0-4e95-8e78-7fb3f4247a38\">\n",
              "    <div class=\"colab-df-container\">\n",
              "      <div>\n",
              "<style scoped>\n",
              "    .dataframe tbody tr th:only-of-type {\n",
              "        vertical-align: middle;\n",
              "    }\n",
              "\n",
              "    .dataframe tbody tr th {\n",
              "        vertical-align: top;\n",
              "    }\n",
              "\n",
              "    .dataframe thead th {\n",
              "        text-align: right;\n",
              "    }\n",
              "</style>\n",
              "<table border=\"1\" class=\"dataframe\">\n",
              "  <thead>\n",
              "    <tr style=\"text-align: right;\">\n",
              "      <th></th>\n",
              "      <th>Air_Temp</th>\n",
              "      <th>Relative_Humidity</th>\n",
              "      <th>RTD</th>\n",
              "      <th>Solar_Radiation</th>\n",
              "      <th>Array_Voltage</th>\n",
              "      <th>Array_Current</th>\n",
              "      <th>Power_Generated</th>\n",
              "    </tr>\n",
              "  </thead>\n",
              "  <tbody>\n",
              "    <tr>\n",
              "      <th>0</th>\n",
              "      <td>0.832721</td>\n",
              "      <td>0.052450</td>\n",
              "      <td>0.799167</td>\n",
              "      <td>0.624959</td>\n",
              "      <td>0.980042</td>\n",
              "      <td>0.242983</td>\n",
              "      <td>0.980443</td>\n",
              "    </tr>\n",
              "    <tr>\n",
              "      <th>1</th>\n",
              "      <td>0.834979</td>\n",
              "      <td>0.020098</td>\n",
              "      <td>0.800428</td>\n",
              "      <td>0.627547</td>\n",
              "      <td>0.981145</td>\n",
              "      <td>0.263961</td>\n",
              "      <td>0.981765</td>\n",
              "    </tr>\n",
              "    <tr>\n",
              "      <th>2</th>\n",
              "      <td>0.831054</td>\n",
              "      <td>0.009773</td>\n",
              "      <td>0.794791</td>\n",
              "      <td>0.614339</td>\n",
              "      <td>0.980157</td>\n",
              "      <td>0.254296</td>\n",
              "      <td>0.980675</td>\n",
              "    </tr>\n",
              "    <tr>\n",
              "      <th>3</th>\n",
              "      <td>0.837350</td>\n",
              "      <td>0.034527</td>\n",
              "      <td>0.831457</td>\n",
              "      <td>0.614987</td>\n",
              "      <td>0.986894</td>\n",
              "      <td>0.236593</td>\n",
              "      <td>0.987230</td>\n",
              "    </tr>\n",
              "    <tr>\n",
              "      <th>4</th>\n",
              "      <td>0.842825</td>\n",
              "      <td>0.001816</td>\n",
              "      <td>0.832571</td>\n",
              "      <td>0.595390</td>\n",
              "      <td>0.984058</td>\n",
              "      <td>0.247906</td>\n",
              "      <td>0.984512</td>\n",
              "    </tr>\n",
              "    <tr>\n",
              "      <th>5</th>\n",
              "      <td>0.841679</td>\n",
              "      <td>0.027132</td>\n",
              "      <td>0.833148</td>\n",
              "      <td>0.590691</td>\n",
              "      <td>0.982769</td>\n",
              "      <td>0.223706</td>\n",
              "      <td>0.982969</td>\n",
              "    </tr>\n",
              "    <tr>\n",
              "      <th>6</th>\n",
              "      <td>0.836313</td>\n",
              "      <td>0.005162</td>\n",
              "      <td>0.831340</td>\n",
              "      <td>0.581154</td>\n",
              "      <td>0.985388</td>\n",
              "      <td>0.204375</td>\n",
              "      <td>0.985387</td>\n",
              "    </tr>\n",
              "    <tr>\n",
              "      <th>7</th>\n",
              "      <td>0.852264</td>\n",
              "      <td>0.026458</td>\n",
              "      <td>0.886563</td>\n",
              "      <td>0.583096</td>\n",
              "      <td>1.000000</td>\n",
              "      <td>0.204375</td>\n",
              "      <td>1.000000</td>\n",
              "    </tr>\n",
              "    <tr>\n",
              "      <th>8</th>\n",
              "      <td>0.850035</td>\n",
              "      <td>0.027018</td>\n",
              "      <td>0.880728</td>\n",
              "      <td>0.573551</td>\n",
              "      <td>0.997385</td>\n",
              "      <td>0.202728</td>\n",
              "      <td>0.997368</td>\n",
              "    </tr>\n",
              "    <tr>\n",
              "      <th>9</th>\n",
              "      <td>0.845681</td>\n",
              "      <td>0.027189</td>\n",
              "      <td>0.875779</td>\n",
              "      <td>0.564169</td>\n",
              "      <td>0.996492</td>\n",
              "      <td>0.196284</td>\n",
              "      <td>0.996406</td>\n",
              "    </tr>\n",
              "  </tbody>\n",
              "</table>\n",
              "</div>\n",
              "      <button class=\"colab-df-convert\" onclick=\"convertToInteractive('df-bc180733-a6c0-4e95-8e78-7fb3f4247a38')\"\n",
              "              title=\"Convert this dataframe to an interactive table.\"\n",
              "              style=\"display:none;\">\n",
              "        \n",
              "  <svg xmlns=\"http://www.w3.org/2000/svg\" height=\"24px\"viewBox=\"0 0 24 24\"\n",
              "       width=\"24px\">\n",
              "    <path d=\"M0 0h24v24H0V0z\" fill=\"none\"/>\n",
              "    <path d=\"M18.56 5.44l.94 2.06.94-2.06 2.06-.94-2.06-.94-.94-2.06-.94 2.06-2.06.94zm-11 1L8.5 8.5l.94-2.06 2.06-.94-2.06-.94L8.5 2.5l-.94 2.06-2.06.94zm10 10l.94 2.06.94-2.06 2.06-.94-2.06-.94-.94-2.06-.94 2.06-2.06.94z\"/><path d=\"M17.41 7.96l-1.37-1.37c-.4-.4-.92-.59-1.43-.59-.52 0-1.04.2-1.43.59L10.3 9.45l-7.72 7.72c-.78.78-.78 2.05 0 2.83L4 21.41c.39.39.9.59 1.41.59.51 0 1.02-.2 1.41-.59l7.78-7.78 2.81-2.81c.8-.78.8-2.07 0-2.86zM5.41 20L4 18.59l7.72-7.72 1.47 1.35L5.41 20z\"/>\n",
              "  </svg>\n",
              "      </button>\n",
              "      \n",
              "  <style>\n",
              "    .colab-df-container {\n",
              "      display:flex;\n",
              "      flex-wrap:wrap;\n",
              "      gap: 12px;\n",
              "    }\n",
              "\n",
              "    .colab-df-convert {\n",
              "      background-color: #E8F0FE;\n",
              "      border: none;\n",
              "      border-radius: 50%;\n",
              "      cursor: pointer;\n",
              "      display: none;\n",
              "      fill: #1967D2;\n",
              "      height: 32px;\n",
              "      padding: 0 0 0 0;\n",
              "      width: 32px;\n",
              "    }\n",
              "\n",
              "    .colab-df-convert:hover {\n",
              "      background-color: #E2EBFA;\n",
              "      box-shadow: 0px 1px 2px rgba(60, 64, 67, 0.3), 0px 1px 3px 1px rgba(60, 64, 67, 0.15);\n",
              "      fill: #174EA6;\n",
              "    }\n",
              "\n",
              "    [theme=dark] .colab-df-convert {\n",
              "      background-color: #3B4455;\n",
              "      fill: #D2E3FC;\n",
              "    }\n",
              "\n",
              "    [theme=dark] .colab-df-convert:hover {\n",
              "      background-color: #434B5C;\n",
              "      box-shadow: 0px 1px 3px 1px rgba(0, 0, 0, 0.15);\n",
              "      filter: drop-shadow(0px 1px 2px rgba(0, 0, 0, 0.3));\n",
              "      fill: #FFFFFF;\n",
              "    }\n",
              "  </style>\n",
              "\n",
              "      <script>\n",
              "        const buttonEl =\n",
              "          document.querySelector('#df-bc180733-a6c0-4e95-8e78-7fb3f4247a38 button.colab-df-convert');\n",
              "        buttonEl.style.display =\n",
              "          google.colab.kernel.accessAllowed ? 'block' : 'none';\n",
              "\n",
              "        async function convertToInteractive(key) {\n",
              "          const element = document.querySelector('#df-bc180733-a6c0-4e95-8e78-7fb3f4247a38');\n",
              "          const dataTable =\n",
              "            await google.colab.kernel.invokeFunction('convertToInteractive',\n",
              "                                                     [key], {});\n",
              "          if (!dataTable) return;\n",
              "\n",
              "          const docLinkHtml = 'Like what you see? Visit the ' +\n",
              "            '<a target=\"_blank\" href=https://colab.research.google.com/notebooks/data_table.ipynb>data table notebook</a>'\n",
              "            + ' to learn more about interactive tables.';\n",
              "          element.innerHTML = '';\n",
              "          dataTable['output_type'] = 'display_data';\n",
              "          await google.colab.output.renderOutput(dataTable, element);\n",
              "          const docLink = document.createElement('div');\n",
              "          docLink.innerHTML = docLinkHtml;\n",
              "          element.appendChild(docLink);\n",
              "        }\n",
              "      </script>\n",
              "    </div>\n",
              "  </div>\n",
              "  "
            ]
          },
          "metadata": {},
          "execution_count": 12
        }
      ]
    },
    {
      "cell_type": "code",
      "source": [
        "Y = data.pop(\"Power_Generated\")\n",
        "X = data "
      ],
      "metadata": {
        "id": "Ry7j4V0WHlU0"
      },
      "execution_count": null,
      "outputs": []
    },
    {
      "cell_type": "code",
      "source": [
        "X.shape"
      ],
      "metadata": {
        "colab": {
          "base_uri": "https://localhost:8080/"
        },
        "id": "YFRbyoyMH_99",
        "outputId": "2177b621-d330-4dd1-ed41-ae5748ed7463"
      },
      "execution_count": null,
      "outputs": [
        {
          "output_type": "execute_result",
          "data": {
            "text/plain": [
              "(1009, 6)"
            ]
          },
          "metadata": {},
          "execution_count": 14
        }
      ]
    },
    {
      "cell_type": "code",
      "source": [
        "Y.shape"
      ],
      "metadata": {
        "colab": {
          "base_uri": "https://localhost:8080/"
        },
        "id": "MSzi-Pcv6IE7",
        "outputId": "56306cc9-4986-4bc4-e820-81572a40050b"
      },
      "execution_count": null,
      "outputs": [
        {
          "output_type": "execute_result",
          "data": {
            "text/plain": [
              "(1009,)"
            ]
          },
          "metadata": {},
          "execution_count": 15
        }
      ]
    },
    {
      "cell_type": "code",
      "source": [
        "from sklearn.model_selection import train_test_split\n",
        "X_train,X_test,Y_train,Y_test = train_test_split(X,Y,test_size=0.2)"
      ],
      "metadata": {
        "id": "7xbkyN36IEyP"
      },
      "execution_count": null,
      "outputs": []
    },
    {
      "cell_type": "code",
      "source": [
        "%%time\n",
        "import tensorflow as tf\n",
        "import random\n",
        "\n",
        "tf.random.set_seed(42)\n",
        "\n",
        "model_1 = tf.keras.Sequential([tf.keras.layers.Dense(300,activation='relu'),\n",
        "                               tf.keras.layers.Dropout(0.2),\n",
        "                               tf.keras.layers.Dense(200,activation='relu'),\n",
        "                               tf.keras.layers.Dropout(0.2),\n",
        "                               tf.keras.layers.Dense(100,activation='relu'),\n",
        "                               tf.keras.layers.Dropout(0.2),\n",
        "                               tf.keras.layers.Dense(1)])\n",
        "\n",
        "model_1.compile(loss='mae',\n",
        "                optimizer= tf.keras.optimizers.Adam(learning_rate=0.001),\n",
        "                metrics = ['mae'])\n",
        "\n",
        "history_1 = model_1.fit(X_train,Y_train,epochs=25)"
      ],
      "metadata": {
        "colab": {
          "base_uri": "https://localhost:8080/"
        },
        "id": "ANdyH_PZI15p",
        "outputId": "8544f405-1c60-4731-d3aa-154a298e7322"
      },
      "execution_count": null,
      "outputs": [
        {
          "output_type": "stream",
          "name": "stdout",
          "text": [
            "Epoch 1/25\n",
            "26/26 [==============================] - 1s 5ms/step - loss: 0.1362 - mae: 0.1362\n",
            "Epoch 2/25\n",
            "26/26 [==============================] - 0s 3ms/step - loss: 0.0682 - mae: 0.0682\n",
            "Epoch 3/25\n",
            "26/26 [==============================] - 0s 3ms/step - loss: 0.0548 - mae: 0.0548\n",
            "Epoch 4/25\n",
            "26/26 [==============================] - 0s 3ms/step - loss: 0.0570 - mae: 0.0570\n",
            "Epoch 5/25\n",
            "26/26 [==============================] - 0s 4ms/step - loss: 0.0596 - mae: 0.0596\n",
            "Epoch 6/25\n",
            "26/26 [==============================] - 0s 3ms/step - loss: 0.0497 - mae: 0.0497\n",
            "Epoch 7/25\n",
            "26/26 [==============================] - 0s 3ms/step - loss: 0.0483 - mae: 0.0483\n",
            "Epoch 8/25\n",
            "26/26 [==============================] - 0s 4ms/step - loss: 0.0484 - mae: 0.0484\n",
            "Epoch 9/25\n",
            "26/26 [==============================] - 0s 3ms/step - loss: 0.0462 - mae: 0.0462\n",
            "Epoch 10/25\n",
            "26/26 [==============================] - 0s 3ms/step - loss: 0.0440 - mae: 0.0440\n",
            "Epoch 11/25\n",
            "26/26 [==============================] - 0s 4ms/step - loss: 0.0436 - mae: 0.0436\n",
            "Epoch 12/25\n",
            "26/26 [==============================] - 0s 3ms/step - loss: 0.0433 - mae: 0.0433\n",
            "Epoch 13/25\n",
            "26/26 [==============================] - 0s 3ms/step - loss: 0.0421 - mae: 0.0421\n",
            "Epoch 14/25\n",
            "26/26 [==============================] - 0s 5ms/step - loss: 0.0435 - mae: 0.0435\n",
            "Epoch 15/25\n",
            "26/26 [==============================] - 0s 4ms/step - loss: 0.0402 - mae: 0.0402\n",
            "Epoch 16/25\n",
            "26/26 [==============================] - 0s 3ms/step - loss: 0.0435 - mae: 0.0435\n",
            "Epoch 17/25\n",
            "26/26 [==============================] - 0s 3ms/step - loss: 0.0365 - mae: 0.0365\n",
            "Epoch 18/25\n",
            "26/26 [==============================] - 0s 3ms/step - loss: 0.0412 - mae: 0.0412\n",
            "Epoch 19/25\n",
            "26/26 [==============================] - 0s 3ms/step - loss: 0.0418 - mae: 0.0418\n",
            "Epoch 20/25\n",
            "26/26 [==============================] - 0s 3ms/step - loss: 0.0370 - mae: 0.0370\n",
            "Epoch 21/25\n",
            "26/26 [==============================] - 0s 3ms/step - loss: 0.0424 - mae: 0.0424\n",
            "Epoch 22/25\n",
            "26/26 [==============================] - 0s 3ms/step - loss: 0.0383 - mae: 0.0383\n",
            "Epoch 23/25\n",
            "26/26 [==============================] - 0s 3ms/step - loss: 0.0366 - mae: 0.0366\n",
            "Epoch 24/25\n",
            "26/26 [==============================] - 0s 3ms/step - loss: 0.0376 - mae: 0.0376\n",
            "Epoch 25/25\n",
            "26/26 [==============================] - 0s 3ms/step - loss: 0.0345 - mae: 0.0345\n",
            "CPU times: user 3.33 s, sys: 216 ms, total: 3.54 s\n",
            "Wall time: 3.16 s\n"
          ]
        }
      ]
    },
    {
      "cell_type": "code",
      "source": [
        "pd.DataFrame(history_1.history).plot()\n",
        "plt.title(\"Error\")\n",
        "plt.xlabel(\"Epochs\")\n",
        "plt.ylabel(\"Mean Absoulte Error\")"
      ],
      "metadata": {
        "colab": {
          "base_uri": "https://localhost:8080/",
          "height": 312
        },
        "id": "7xP9YaQTJu7p",
        "outputId": "73eccc43-0b89-4567-db9a-39585985396b"
      },
      "execution_count": null,
      "outputs": [
        {
          "output_type": "execute_result",
          "data": {
            "text/plain": [
              "Text(0, 0.5, 'Mean Absoulte Error')"
            ]
          },
          "metadata": {},
          "execution_count": 18
        },
        {
          "output_type": "display_data",
          "data": {
            "text/plain": [
              "<Figure size 432x288 with 1 Axes>"
            ],
            "image/png": "[encoded data removed]"
          },
          "metadata": {
            "needs_background": "light"
          }
        }
      ]
    },
    {
      "cell_type": "code",
      "source": [
        "%%time\n",
        "model_1.evaluate(X_test,Y_test)"
      ],
      "metadata": {
        "colab": {
          "base_uri": "https://localhost:8080/"
        },
        "id": "cKZdyqo5MHXh",
        "outputId": "b62ad7d5-327e-4c57-f67d-fd03d05a2ba1"
      },
      "execution_count": null,
      "outputs": [
        {
          "output_type": "stream",
          "name": "stdout",
          "text": [
            "7/7 [==============================] - 1s 6ms/step - loss: 0.0233 - mae: 0.0233\n",
            "CPU times: user 310 ms, sys: 6.51 ms, total: 316 ms\n",
            "Wall time: 882 ms\n"
          ]
        },
        {
          "output_type": "execute_result",
          "data": {
            "text/plain": [
              "[0.023346345871686935, 0.023346345871686935]"
            ]
          },
          "metadata": {},
          "execution_count": 19
        }
      ]
    },
    {
      "cell_type": "code",
      "source": [
        "pred = model_1.predict(X_test)"
      ],
      "metadata": {
        "id": "iFq_jhhQMSxf"
      },
      "execution_count": null,
      "outputs": []
    },
    {
      "cell_type": "code",
      "source": [
        "# pred"
      ],
      "metadata": {
        "id": "O59DkrgiMYlS"
      },
      "execution_count": null,
      "outputs": []
    },
    {
      "cell_type": "code",
      "source": [
        "pred"
      ],
      "metadata": {
        "id": "6h0AhX2HADnx",
        "outputId": "10e327c3-6676-4675-a30b-2bb31e83a5a8",
        "colab": {
          "base_uri": "https://localhost:8080/"
        }
      },
      "execution_count": null,
      "outputs": [
        {
          "output_type": "execute_result",
          "data": {
            "text/plain": [
              "array([[0.66559863],\n",
              "       [0.6249178 ],\n",
              "       [0.7569156 ],\n",
              "       [0.01437783],\n",
              "       [0.62156206],\n",
              "       [0.7875144 ],\n",
              "       [0.62768215],\n",
              "       [0.01422215],\n",
              "       [0.66878194],\n",
              "       [0.6482784 ],\n",
              "       [0.01004711],\n",
              "       [0.63707304],\n",
              "       [0.7709402 ],\n",
              "       [0.7645196 ],\n",
              "       [0.01124988],\n",
              "       [0.7741185 ],\n",
              "       [0.01455358],\n",
              "       [0.82639384],\n",
              "       [0.830678  ],\n",
              "       [0.62347794],\n",
              "       [0.01456099],\n",
              "       [0.91933   ],\n",
              "       [0.6222529 ],\n",
              "       [0.83014154],\n",
              "       [0.01453599],\n",
              "       [0.01458728],\n",
              "       [0.0129184 ],\n",
              "       [0.0145826 ],\n",
              "       [0.0417212 ],\n",
              "       [0.66609526],\n",
              "       [0.00660965],\n",
              "       [0.0145461 ],\n",
              "       [0.00631749],\n",
              "       [0.6471729 ],\n",
              "       [0.61908096],\n",
              "       [0.0145381 ],\n",
              "       [0.01201358],\n",
              "       [0.0145468 ],\n",
              "       [0.69882077],\n",
              "       [0.666087  ],\n",
              "       [0.8342541 ],\n",
              "       [0.726715  ],\n",
              "       [0.6162084 ],\n",
              "       [0.01450075],\n",
              "       [0.8419743 ],\n",
              "       [0.6296806 ],\n",
              "       [0.01421182],\n",
              "       [0.01470953],\n",
              "       [0.9164208 ],\n",
              "       [0.6968014 ],\n",
              "       [0.00818878],\n",
              "       [0.71820563],\n",
              "       [0.01441219],\n",
              "       [0.01038565],\n",
              "       [0.6371506 ],\n",
              "       [0.01432579],\n",
              "       [0.625567  ],\n",
              "       [0.6369045 ],\n",
              "       [0.01446319],\n",
              "       [0.01440345],\n",
              "       [0.00904524],\n",
              "       [0.84880793],\n",
              "       [0.01455395],\n",
              "       [0.01463057],\n",
              "       [0.7787024 ],\n",
              "       [0.6275979 ],\n",
              "       [0.6192365 ],\n",
              "       [0.81372976],\n",
              "       [0.6255866 ],\n",
              "       [0.8304488 ],\n",
              "       [0.7828816 ],\n",
              "       [0.0127477 ],\n",
              "       [0.61910087],\n",
              "       [0.01453911],\n",
              "       [0.0144724 ],\n",
              "       [0.81799644],\n",
              "       [0.01454742],\n",
              "       [0.01458607],\n",
              "       [0.01346329],\n",
              "       [0.01474032],\n",
              "       [0.01473942],\n",
              "       [0.7849324 ],\n",
              "       [0.6632397 ],\n",
              "       [0.01228155],\n",
              "       [0.01446247],\n",
              "       [0.01446206],\n",
              "       [0.01417933],\n",
              "       [0.00924175],\n",
              "       [0.7685106 ],\n",
              "       [0.7746811 ],\n",
              "       [0.01058101],\n",
              "       [0.6312449 ],\n",
              "       [0.6700684 ],\n",
              "       [0.86158496],\n",
              "       [0.77442956],\n",
              "       [0.9286118 ],\n",
              "       [0.62166554],\n",
              "       [0.01233525],\n",
              "       [0.01417594],\n",
              "       [0.9134613 ],\n",
              "       [0.80202955],\n",
              "       [0.6316726 ],\n",
              "       [0.84886974],\n",
              "       [0.00562914],\n",
              "       [0.00748234],\n",
              "       [0.01256155],\n",
              "       [0.76052177],\n",
              "       [0.78483325],\n",
              "       [0.622042  ],\n",
              "       [0.01465881],\n",
              "       [0.7696485 ],\n",
              "       [0.8302139 ],\n",
              "       [0.01454169],\n",
              "       [0.01241191],\n",
              "       [0.65250075],\n",
              "       [0.54047215],\n",
              "       [0.80466163],\n",
              "       [0.63027644],\n",
              "       [0.01451392],\n",
              "       [0.01447993],\n",
              "       [0.01085304],\n",
              "       [0.0144879 ],\n",
              "       [0.9152084 ],\n",
              "       [0.01472593],\n",
              "       [0.23131448],\n",
              "       [0.619985  ],\n",
              "       [0.01429804],\n",
              "       [0.6631084 ],\n",
              "       [0.9145091 ],\n",
              "       [0.01459833],\n",
              "       [0.80262303],\n",
              "       [0.8012301 ],\n",
              "       [0.79378134],\n",
              "       [0.00560884],\n",
              "       [0.00883567],\n",
              "       [0.01463881],\n",
              "       [0.01376468],\n",
              "       [0.63174075],\n",
              "       [0.01458145],\n",
              "       [0.80097574],\n",
              "       [0.01411098],\n",
              "       [0.01459162],\n",
              "       [0.77389675],\n",
              "       [0.6315238 ],\n",
              "       [0.861792  ],\n",
              "       [0.66510314],\n",
              "       [0.63280195],\n",
              "       [0.01426134],\n",
              "       [0.01468952],\n",
              "       [0.6746013 ],\n",
              "       [0.01456797],\n",
              "       [0.8397831 ],\n",
              "       [0.01352938],\n",
              "       [0.01454602],\n",
              "       [0.0104591 ],\n",
              "       [0.6272742 ],\n",
              "       [0.01380936],\n",
              "       [0.84090185],\n",
              "       [0.01452764],\n",
              "       [0.8653911 ],\n",
              "       [0.62677217],\n",
              "       [0.6216227 ],\n",
              "       [0.0144432 ],\n",
              "       [0.63088405],\n",
              "       [0.01453802],\n",
              "       [0.6216121 ],\n",
              "       [0.00624374],\n",
              "       [0.78642374],\n",
              "       [0.82386446],\n",
              "       [0.01456309],\n",
              "       [0.452162  ],\n",
              "       [0.01046574],\n",
              "       [0.01062885],\n",
              "       [0.6386264 ],\n",
              "       [0.6212443 ],\n",
              "       [0.9299796 ],\n",
              "       [0.768566  ],\n",
              "       [0.01446368],\n",
              "       [0.01448185],\n",
              "       [0.61863464],\n",
              "       [0.0148034 ],\n",
              "       [0.6552804 ],\n",
              "       [0.6275004 ],\n",
              "       [0.7962671 ],\n",
              "       [0.66621333],\n",
              "       [0.00634849],\n",
              "       [0.6377165 ],\n",
              "       [0.7631541 ],\n",
              "       [0.01440844],\n",
              "       [0.01403564],\n",
              "       [0.7605122 ],\n",
              "       [0.01373014],\n",
              "       [0.01453459],\n",
              "       [0.85560024],\n",
              "       [0.01447888],\n",
              "       [0.0145101 ],\n",
              "       [0.7279914 ],\n",
              "       [0.619007  ],\n",
              "       [0.20186214],\n",
              "       [0.63335353],\n",
              "       [0.6340612 ],\n",
              "       [0.0143912 ]], dtype=float32)"
            ]
          },
          "metadata": {},
          "execution_count": 22
        }
      ]
    },
    {
      "cell_type": "code",
      "source": [
        "final_power = pred * (max_d - min_d) + min_d"
      ],
      "metadata": {
        "id": "4cnwGgfYAE7h"
      },
      "execution_count": null,
      "outputs": []
    },
    {
      "cell_type": "code",
      "source": [
        "final_power"
      ],
      "metadata": {
        "colab": {
          "base_uri": "https://localhost:8080/"
        },
        "id": "NhCqyaMy7M9M",
        "outputId": "5542bae9-f11e-4a73-b084-bdd7c18c86ab"
      },
      "execution_count": null,
      "outputs": [
        {
          "output_type": "execute_result",
          "data": {
            "text/plain": [
              "array([[294.7403   ],\n",
              "       [277.24463  ],\n",
              "       [334.01315  ],\n",
              "       [ 14.668728 ],\n",
              "       [275.80142  ],\n",
              "       [347.1728   ],\n",
              "       [278.4335   ],\n",
              "       [ 14.601774 ],\n",
              "       [296.10934  ],\n",
              "       [287.29135  ],\n",
              "       [ 12.806209 ],\n",
              "       [282.47226  ],\n",
              "       [340.0447   ],\n",
              "       [337.2834   ],\n",
              "       [ 13.323484 ],\n",
              "       [341.4116   ],\n",
              "       [ 14.744313 ],\n",
              "       [363.89374  ],\n",
              "       [365.73624  ],\n",
              "       [276.62537  ],\n",
              "       [ 14.747499 ],\n",
              "       [403.86295  ],\n",
              "       [276.0985   ],\n",
              "       [365.50552  ],\n",
              "       [ 14.73675  ],\n",
              "       [ 14.758805 ],\n",
              "       [ 14.041071 ],\n",
              "       [ 14.756796 ],\n",
              "       [ 26.428333 ],\n",
              "       [294.9539   ],\n",
              "       [ 11.327856 ],\n",
              "       [ 14.741098 ],\n",
              "       [ 11.202204 ],\n",
              "       [286.81592  ],\n",
              "       [274.73438  ],\n",
              "       [ 14.737658 ],\n",
              "       [ 13.651932 ],\n",
              "       [ 14.741399 ],\n",
              "       [309.0282   ],\n",
              "       [294.95032  ],\n",
              "       [367.2742   ],\n",
              "       [321.02472  ],\n",
              "       [273.49896  ],\n",
              "       [ 14.721594 ],\n",
              "       [370.59445  ],\n",
              "       [279.29297  ],\n",
              "       [ 14.597333 ],\n",
              "       [ 14.811382 ],\n",
              "       [402.6118   ],\n",
              "       [308.15973  ],\n",
              "       [ 12.006996 ],\n",
              "       [317.36508  ],\n",
              "       [ 14.683506 ],\n",
              "       [ 12.951803 ],\n",
              "       [282.50558  ],\n",
              "       [ 14.646349 ],\n",
              "       [277.52383  ],\n",
              "       [282.39975  ],\n",
              "       [ 14.705439 ],\n",
              "       [ 14.679745 ],\n",
              "       [ 12.375332 ],\n",
              "       [373.53342  ],\n",
              "       [ 14.744474 ],\n",
              "       [ 14.777426 ],\n",
              "       [343.383    ],\n",
              "       [278.39728  ],\n",
              "       [274.80127  ],\n",
              "       [358.4473   ],\n",
              "       [277.53226  ],\n",
              "       [365.63766  ],\n",
              "       [345.1804   ],\n",
              "       [ 13.967656 ],\n",
              "       [274.74292  ],\n",
              "       [ 14.738092 ],\n",
              "       [ 14.709401 ],\n",
              "       [360.28226  ],\n",
              "       [ 14.741665 ],\n",
              "       [ 14.758287 ],\n",
              "       [ 14.275412 ],\n",
              "       [ 14.824627 ],\n",
              "       [ 14.82424  ],\n",
              "       [346.06235  ],\n",
              "       [293.7258   ],\n",
              "       [ 13.767178 ],\n",
              "       [ 14.705131 ],\n",
              "       [ 14.704953 ],\n",
              "       [ 14.583357 ],\n",
              "       [ 12.459848 ],\n",
              "       [338.9998   ],\n",
              "       [341.65356  ],\n",
              "       [ 13.035826 ],\n",
              "       [279.96573  ],\n",
              "       [296.6626   ],\n",
              "       [379.02844  ],\n",
              "       [341.54538  ],\n",
              "       [407.8548   ],\n",
              "       [275.84592  ],\n",
              "       [ 13.790274 ],\n",
              "       [ 14.581901 ],\n",
              "       [401.339    ],\n",
              "       [353.41534  ],\n",
              "       [280.1497   ],\n",
              "       [373.56     ],\n",
              "       [ 10.906167 ],\n",
              "       [ 11.703173 ],\n",
              "       [ 13.887599 ],\n",
              "       [335.56403  ],\n",
              "       [346.0197   ],\n",
              "       [276.0078   ],\n",
              "       [ 14.78957  ],\n",
              "       [339.4892   ],\n",
              "       [365.53665  ],\n",
              "       [ 14.739201 ],\n",
              "       [ 13.82324  ],\n",
              "       [289.10727  ],\n",
              "       [240.92696  ],\n",
              "       [354.54733  ],\n",
              "       [279.54922  ],\n",
              "       [ 14.727257 ],\n",
              "       [ 14.712641 ],\n",
              "       [ 13.152815 ],\n",
              "       [ 14.716066 ],\n",
              "       [402.09036  ],\n",
              "       [ 14.818438 ],\n",
              "       [107.96702  ],\n",
              "       [275.12317  ],\n",
              "       [ 14.634413 ],\n",
              "       [293.6693   ],\n",
              "       [401.7896   ],\n",
              "       [ 14.763559 ],\n",
              "       [353.6706   ],\n",
              "       [353.07153  ],\n",
              "       [349.86804  ],\n",
              "       [ 10.897437 ],\n",
              "       [ 12.285204 ],\n",
              "       [ 14.78097  ],\n",
              "       [ 14.405029 ],\n",
              "       [280.179    ],\n",
              "       [ 14.7563   ],\n",
              "       [352.96213  ],\n",
              "       [ 14.553963 ],\n",
              "       [ 14.7606735],\n",
              "       [341.31625  ],\n",
              "       [280.08566  ],\n",
              "       [379.1175   ],\n",
              "       [294.5272   ],\n",
              "       [280.63538  ],\n",
              "       [ 14.618629 ],\n",
              "       [ 14.802778 ],\n",
              "       [298.6121   ],\n",
              "       [ 14.750502 ],\n",
              "       [369.65207  ],\n",
              "       [ 14.303835 ],\n",
              "       [ 14.741063 ],\n",
              "       [ 12.983396 ],\n",
              "       [278.25806  ],\n",
              "       [ 14.424246 ],\n",
              "       [370.13324  ],\n",
              "       [ 14.733156 ],\n",
              "       [380.66534  ],\n",
              "       [278.04214  ],\n",
              "       [275.82748  ],\n",
              "       [ 14.69684  ],\n",
              "       [279.81055  ],\n",
              "       [ 14.737621 ],\n",
              "       [275.82294  ],\n",
              "       [ 11.170489 ],\n",
              "       [346.70374  ],\n",
              "       [362.80594  ],\n",
              "       [ 14.748403 ],\n",
              "       [202.94727  ],\n",
              "       [ 12.986252 ],\n",
              "       [ 13.0563965],\n",
              "       [283.1403   ],\n",
              "       [275.66476  ],\n",
              "       [408.44305  ],\n",
              "       [339.02365  ],\n",
              "       [ 14.705648 ],\n",
              "       [ 14.713467 ],\n",
              "       [274.54242  ],\n",
              "       [ 14.851753 ],\n",
              "       [290.30273  ],\n",
              "       [278.35535  ],\n",
              "       [350.93707  ],\n",
              "       [295.00467  ],\n",
              "       [ 11.215538 ],\n",
              "       [282.74896  ],\n",
              "       [336.69614  ],\n",
              "       [ 14.681894 ],\n",
              "       [ 14.521561 ],\n",
              "       [335.5599   ],\n",
              "       [ 14.390175 ],\n",
              "       [ 14.736145 ],\n",
              "       [376.4546   ],\n",
              "       [ 14.712187 ],\n",
              "       [ 14.725613 ],\n",
              "       [321.57364  ],\n",
              "       [274.70255  ],\n",
              "       [ 95.3004   ],\n",
              "       [280.8726   ],\n",
              "       [281.17694  ],\n",
              "       [ 14.674477 ]], dtype=float32)"
            ]
          },
          "metadata": {},
          "execution_count": 24
        }
      ]
    },
    {
      "cell_type": "code",
      "source": [
        "model_1.save(\"NeuralN_try6.h5\")"
      ],
      "metadata": {
        "id": "BpothndO7kja"
      },
      "execution_count": null,
      "outputs": []
    },
    {
      "cell_type": "code",
      "source": [],
      "metadata": {
        "id": "6AreU0Ex_-Fu"
      },
      "execution_count": null,
      "outputs": []
    }
  ]
}